{
 "cells": [
  {
   "cell_type": "code",
   "execution_count": 8,
   "id": "571c6410",
   "metadata": {},
   "outputs": [
    {
     "name": "stdout",
     "output_type": "stream",
     "text": [
      "Positive number\n"
     ]
    }
   ],
   "source": [
    "#1 Write a Python program that takes an integer input from the user and prints whether the number is positive, negative, or zero.\n",
    "\n",
    "num = int(input(\"Enter a number:\"))\n",
    "if num>0: \n",
    "    print(\"Positive number\")\n",
    "elif num<0:\n",
    "    print(\"Negative number\")\n",
    "else:\n",
    "    print(\"zero\")\n"
   ]
  },
  {
   "cell_type": "code",
   "execution_count": null,
   "id": "e9505911",
   "metadata": {},
   "outputs": [
    {
     "name": "stdout",
     "output_type": "stream",
     "text": [
      "4 is the square of 2\n"
     ]
    }
   ],
   "source": [
    "#2 Write a Python program that takes two integer inputs from the user and checks whether one number is the square of the other. If yes, print which number is the square of the other.\n",
    "\n",
    "n1=int(input(\"Enter a number:\"))\n",
    "n2=int(input(\"Enter a number:\"))\n",
    "if n1**2 == n2:\n",
    "    print(n2,\"is the square of\",n1)\n",
    "\n",
    "elif n2**2 == n1:\n",
    "    print(n1,\"is the square of\",n2)"
   ]
  },
  {
   "cell_type": "code",
   "execution_count": null,
   "id": "1864b4b1",
   "metadata": {},
   "outputs": [
    {
     "name": "stdout",
     "output_type": "stream",
     "text": [
      "Adult\n"
     ]
    }
   ],
   "source": [
    "# 3.Check a person's age and print their category:\n",
    "\n",
    "# \"Child\" if age is less than 13,\n",
    "\n",
    "# \"Teenager\" If age is between 13 and 19,\n",
    "\n",
    "# \"Adult\" if age is between 20 and 64,\n",
    "\n",
    "# \"Senior\" if age is 65 or older\n",
    "\n",
    "\n",
    "age=int(input(\"Enter your age:\"))\n",
    "if age<13:\n",
    "    print(\"child\")\n",
    "elif age>13 and age<19:\n",
    "    print(\"Teenager\")\n",
    "elif age>20 and age<64:\n",
    "    print(\"Adult\")\n",
    "else:\n",
    "    print(\"Senior\"\n"
   ]
  },
  {
   "cell_type": "code",
   "execution_count": null,
   "id": "509ee942",
   "metadata": {},
   "outputs": [
    {
     "name": "stdout",
     "output_type": "stream",
     "text": [
      "invalid score\n"
     ]
    }
   ],
   "source": [
    "#4. Ask the user for a score (0-100) and assign a grade:\n",
    "# 90-100- A\n",
    "# 80-89- B\n",
    "# 70-79- C\n",
    "# 60-69- D\n",
    "# below 60- F\n",
    "# if the score is not in range 0-100, print \"Invalid score\".\n",
    "\n",
    "score=int(input(\"Enter score:\"))\n",
    "if score>=90 and score<=100:\n",
    "    print(\"A\")\n",
    "elif score>=80 and score<=89:\n",
    "    print(\"B\")\n",
    "elif score>=70 and score<=79:\n",
    "    print(\"C\")\n",
    "elif score>=60 and score<=69:\n",
    "    print(\"D\")\n",
    "elif score<60 and score>=0:\n",
    "    print(\"F\")\n",
    "else:\n",
    "    print(\"invalid score\")\n",
    "    \n"
   ]
  },
  {
   "cell_type": "code",
   "execution_count": null,
   "id": "9b3eaf6c",
   "metadata": {},
   "outputs": [
    {
     "name": "stdout",
     "output_type": "stream",
     "text": [
      "Positive\n"
     ]
    }
   ],
   "source": [
    "# 5.Ask the user to input a number and print whether it is:\n",
    "# \"Positive\"\n",
    "# \"Zaro\n",
    "# \"Negative\"\n",
    "\n",
    "\n",
    "num = int(input(\"Enter a number: \"))\n",
    "\n",
    "if num > 0:\n",
    "    print(\"Positive\")\n",
    "elif num == 0:\n",
    "    print(\"Zero\")\n",
    "else:\n",
    "    print(\"Negative\")\n"
   ]
  },
  {
   "cell_type": "code",
   "execution_count": null,
   "id": "01af56b6",
   "metadata": {},
   "outputs": [
    {
     "name": "stdout",
     "output_type": "stream",
     "text": [
      "Not divisible\n"
     ]
    }
   ],
   "source": [
    "#6. Map to print F122 14 no. is divisible by 3,print BUZZ if the no. is divisible by S print \"FIZZBUZZ If the no. Is divisible by both 3 and 5\n",
    "\n",
    "n = int(input(\"Enter the number: \"))\n",
    "\n",
    "if n % 3 == 0 and n % 5 == 0:\n",
    "    print(\"FIZZBUZZ\")\n",
    "elif n % 3 == 0:\n",
    "    print(\"FIZZ\")\n",
    "elif n % 5 == 0:\n",
    "    print(\"BUZZ\")\n",
    "else:\n",
    "    print(\"Not divisible\")"
   ]
  },
  {
   "cell_type": "code",
   "execution_count": 16,
   "id": "4491065a",
   "metadata": {},
   "outputs": [
    {
     "name": "stdout",
     "output_type": "stream",
     "text": [
      "Three digit\n"
     ]
    }
   ],
   "source": [
    "#7.wap to check the no. is a single digit, two digit, three digit or more than three digit.\n",
    "\n",
    "\n",
    "digit=int(input(\"Enter the number:\"))\n",
    "if digit<10:\n",
    "    print(\"Single digit\")\n",
    "elif digit<100:\n",
    "    print(\"two digit\")\n",
    "elif digit<1000:\n",
    "    print(\"Three digit\")\n",
    "else:\n",
    "    print(\"more than three digit\")"
   ]
  },
  {
   "cell_type": "code",
   "execution_count": null,
   "id": "4a71c9b1",
   "metadata": {},
   "outputs": [
    {
     "name": "stdout",
     "output_type": "stream",
     "text": [
      "Total units-- 452 Total bill -- 3520.0\n"
     ]
    }
   ],
   "source": [
    "# 8.Ask the user to enter the number of units consumed. Apply the following electricity rates.\n",
    "# 0-100 units : R5/unit\n",
    "# 101-300 Units: R7.5/unit\n",
    "# 301-500 units: R10/unit\n",
    "# Above 500 units: R15/unit\n",
    "\n",
    "nits =  int(input(\"Enter the units--\"))\n",
    "\n",
    "if 0<=units<=100:\n",
    "    bill = units*5\n",
    "elif 101<=units<=300:\n",
    "    bill =  100*5+ (units-100)*7.5\n",
    "elif 301<=units<=500:\n",
    "    bill =  100*5+ 200*7.5+ (units-300)*10\n",
    "elif units>500:\n",
    "    bill = 100*5+ 200*7.5 + 200*10+ (units-500)*15\n",
    "\n",
    "print(\"Total units--\", units, \"Total bill --\",bill)\n"
   ]
  },
  {
   "cell_type": "code",
   "execution_count": null,
   "id": "7d5e05d2",
   "metadata": {},
   "outputs": [
    {
     "name": "stdout",
     "output_type": "stream",
     "text": [
      "Good Afternoon\n"
     ]
    }
   ],
   "source": [
    "# 9.Ask for the current hour (0-23):\n",
    "# 5-11 \"Good Morning\"\n",
    "# 12-16 \"Good Afternoon\"\n",
    "# 17-20 \"Good Evening\"\n",
    "# 21-4 \"Good Night\"\n",
    "\n",
    "\n",
    "\n",
    "hours=int(input(\"Enter the hours:\"))\n",
    "if hours>=5 and hours<=11:\n",
    "    print(\"GoodMorning\")\n",
    "elif hours>=12 and hours<=16:\n",
    "    print(\"Good Afternoon\")\n",
    "elif hours>=17 and hours<=20:\n",
    "    print(\"Good Evening\")\n",
    "elif (hours>=21 and  hours<=24) or ( hours>=0 and hours<=4):\n",
    "    print(\"Good Night\")\n",
    "else:\n",
    "    print(\"Enter 0 to 24\")"
   ]
  },
  {
   "cell_type": "code",
   "execution_count": 25,
   "id": "9fea7c63",
   "metadata": {},
   "outputs": [
    {
     "name": "stdout",
     "output_type": "stream",
     "text": [
      "Stop\n"
     ]
    }
   ],
   "source": [
    " #10. Traffic Light Decision\n",
    "\n",
    "# Ask the user to enter the color of a traffic light (red, yellow, green):\n",
    "\n",
    "# Red Print \"Stop\"\n",
    "\n",
    "# Yellow Print \"Slow down\"\n",
    "\n",
    "# Green Print \"Go\"\n",
    "\n",
    "# Anything else Print \"Invalid color\n",
    "\n",
    "\n",
    "\n",
    "color=(input(\"Enter the color:\"))\n",
    "if color=='Red':\n",
    "    print(\"Stop\")\n",
    "elif color=='Yellow':\n",
    "    print(\"Slow down\")\n",
    "elif color=='Green':\n",
    "    print(\"Go\")\n",
    "else:\n",
    "    print(\"Invalid color\")"
   ]
  },
  {
   "cell_type": "code",
   "execution_count": null,
   "id": "9ecc996a",
   "metadata": {},
   "outputs": [
    {
     "name": "stdout",
     "output_type": "stream",
     "text": [
      "Greatest number is: 6\n"
     ]
    }
   ],
   "source": [
    "#11.wap to find the greatest number among three number.\n",
    "\n",
    "\n",
    "a=int(input(\"Enter the number:\"))\n",
    "b=int(input(\"Enter the number:\"))\n",
    "c=int(input(\"Enter the number:\"))\n",
    "\n",
    "if a >= b and a >= c:\n",
    "    print(\"Greatest number is:\", a)\n",
    "elif b >= a and b >= c:\n",
    "    print(\"Greatest number is:\", b)\n",
    "else:\n",
    "    print(\"Greatest number is:\", c)\n",
    "\n"
   ]
  },
  {
   "cell_type": "code",
   "execution_count": 27,
   "id": "b0dd7997",
   "metadata": {},
   "outputs": [
    {
     "name": "stdout",
     "output_type": "stream",
     "text": [
      "smaller number is: 14\n"
     ]
    }
   ],
   "source": [
    "\n",
    "#12. wap to find the smallest number among three number\n",
    "\n",
    "a=int(input(\"Enter the number:\"))\n",
    "b=int(input(\"Enter the number:\"))\n",
    "c=int(input(\"Enter the number:\"))\n",
    "\n",
    "if a <= b and a <= c:\n",
    "    print(\"smaller number is:\", a)\n",
    "elif b <= a and b <= c:\n",
    "    print(\"smaller number is:\", b)\n",
    "else:\n",
    "    print(\"smaller number is:\", c)"
   ]
  },
  {
   "cell_type": "code",
   "execution_count": null,
   "id": "deca6015",
   "metadata": {},
   "outputs": [],
   "source": []
  }
 ],
 "metadata": {
  "kernelspec": {
   "display_name": "Python 3",
   "language": "python",
   "name": "python3"
  },
  "language_info": {
   "codemirror_mode": {
    "name": "ipython",
    "version": 3
   },
   "file_extension": ".py",
   "mimetype": "text/x-python",
   "name": "python",
   "nbconvert_exporter": "python",
   "pygments_lexer": "ipython3",
   "version": "3.13.7"
  }
 },
 "nbformat": 4,
 "nbformat_minor": 5
}
