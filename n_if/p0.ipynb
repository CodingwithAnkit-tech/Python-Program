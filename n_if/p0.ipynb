{
 "cells": [
  {
   "cell_type": "code",
   "execution_count": null,
   "id": "f29cc994",
   "metadata": {},
   "outputs": [
    {
     "name": "stdout",
     "output_type": "stream",
     "text": [
      "less than or equal to 5\n"
     ]
    }
   ],
   "source": [
    "# 1 wap to check whether the given number is even and greater than 5\n",
    "#num=2\n",
    "\n",
    "num=2\n",
    "if num>5:\n",
    "    if num%2==0:\n",
    "        print(\"greater than 5 and even\")\n",
    "    else:\n",
    "        print(\"greater than 5 and odd\")\n",
    "else:\n",
    "    print(\"less than or equal to 5\")\n",
    "\n"
   ]
  },
  {
   "cell_type": "code",
   "execution_count": null,
   "id": "acc8dee4",
   "metadata": {},
   "outputs": [
    {
     "name": "stdout",
     "output_type": "stream",
     "text": [
      "yes it is odd\n"
     ]
    }
   ],
   "source": [
    "#.2 wap to check the number is odd and check if the number is divisible by 7\n",
    "#n=35\n",
    "\n",
    "n=35\n",
    "if n%7==0:\n",
    "    if n%2!=0:\n",
    "        print(\"yes it is odd\")\n",
    "    else:\n",
    "        print(\"number but even\")\n",
    "else:\n",
    "    print(\"number but divisible\")\n",
    "    "
   ]
  },
  {
   "cell_type": "code",
   "execution_count": null,
   "id": "dc72f848",
   "metadata": {},
   "outputs": [
    {
     "name": "stdout",
     "output_type": "stream",
     "text": [
      "number but divisible\n"
     ]
    }
   ],
   "source": [
    "#3 wap to check the number is odd and check if the number is divisible by 7\n",
    "#n=33\n",
    "\n",
    "\n",
    "n=33\n",
    "if n%7==0:\n",
    "    if n%2!=0:\n",
    "        print(\"yes it is odd\")\n",
    "    else:\n",
    "        print(\"number but even\")\n",
    "else:\n",
    "    print(\"number but divisible\")\n",
    "    "
   ]
  },
  {
   "cell_type": "code",
   "execution_count": null,
   "id": "779f69fc",
   "metadata": {},
   "outputs": [
    {
     "name": "stdout",
     "output_type": "stream",
     "text": [
      "Invalid username of the password please try again\n"
     ]
    }
   ],
   "source": [
    "#.wap to validate facebook username and password\n",
    "#condition is:---> username-->\"python\"  and password=\"pythonmasters\"\n",
    "\n",
    "\n",
    "username=input(\"Enter username:\")\n",
    "password=input(\"Enter the password:\")\n",
    "if username == 'python' and password == 'pythonmasters':\n",
    "    print(\"correct\")\n",
    "else:\n",
    "        print(\"Invalid username of the password please try again\")\n",
    "4 "
   ]
  },
  {
   "cell_type": "code",
   "execution_count": null,
   "id": "22362b1a",
   "metadata": {},
   "outputs": [
    {
     "name": "stdout",
     "output_type": "stream",
     "text": [
      "odd number\n"
     ]
    }
   ],
   "source": [
    "# 5 Write a Python program that takes an integer input from the user and checks the following:\n",
    "\n",
    "# If the number is even or odd.\n",
    "\n",
    "# If the number is even, check whether it is also divisible by 4 or not.\n",
    "\n",
    "n=int(input(\"Enter a number: \"))\n",
    "if n%2==0:\n",
    "    if n%4==0:\n",
    "        print(\"Yes divisible by 4\")\n",
    "    else:\n",
    "        print(\"Even but not divisible by 4\")\n",
    "else:\n",
    "    print(\"odd number\")\n"
   ]
  },
  {
   "cell_type": "code",
   "execution_count": null,
   "id": "374d916a",
   "metadata": {},
   "outputs": [
    {
     "name": "stdout",
     "output_type": "stream",
     "text": [
      "Insufficient Balance\n"
     ]
    }
   ],
   "source": [
    "#6  Write a Python program to check if a withdrawal is possible based on balance and amount.\n",
    "\n",
    "# If amount ≤ balance and divisible by 100 → print \"Transaction successfully\"\n",
    "\n",
    "# If amount ≤ balance but not divisible by 100 → print \"Enter amount in multiples of 100\"\n",
    "\n",
    "# Else → print \"Insufficient Balance\"\n",
    "\n",
    "\n",
    "balance = int(input(\"Enter the balance: \"))\n",
    "amount = int(input(\"Enter the amount: \"))\n",
    "if amount <= balance:\n",
    "    if amount%100==0:\n",
    "        print(\"Tranjection successdully\")\n",
    "    else:\n",
    "        print(\"Enter amount in multiples of 100\")\n",
    "else:\n",
    "    print(\"Insufficient Balance\")\n",
    "\n",
    "\n"
   ]
  },
  {
   "cell_type": "code",
   "execution_count": null,
   "id": "5b5f292d",
   "metadata": {},
   "outputs": [
    {
     "name": "stdout",
     "output_type": "stream",
     "text": [
      "Not string data type .\n"
     ]
    }
   ],
   "source": [
    "\n",
    "#7 Write a Python program to check whether the entered string is a palindrome or not.\n",
    "\n",
    "data = eval(input(\"Enter data: \") )\n",
    "\n",
    "if type(data)==str:\n",
    "    if data==data[::-1]:\n",
    "        print(\"palindrome\")\n",
    "    else:\n",
    "        print(\"Not Palindrome\")\n",
    "else:\n",
    "    print(\"Not string data type .\")\n"
   ]
  },
  {
   "cell_type": "code",
   "execution_count": null,
   "id": "27d3b164",
   "metadata": {},
   "outputs": [
    {
     "name": "stdout",
     "output_type": "stream",
     "text": [
      "Data is too short to reverse\n"
     ]
    }
   ],
   "source": [
    "#8  Write a Python program to reverse the entered string if its length is greater than 3. Otherwise, display a message saying the data is too short to reverse.\n",
    "\n",
    "data = input(\"Enter data: \")\n",
    "\n",
    "if len(data) > 3:\n",
    "    print(\"Reversed:\", data[::-1])\n",
    "else:\n",
    "    print(\"Data is too short to reverse\")"
   ]
  },
  {
   "cell_type": "code",
   "execution_count": null,
   "id": "e16dadb8",
   "metadata": {},
   "outputs": [
    {
     "name": "stdout",
     "output_type": "stream",
     "text": [
      "Largest: 65\n"
     ]
    }
   ],
   "source": [
    "# 9 Write a Python program to find and display the largest number among three given numbers.\n",
    "\n",
    "\n",
    "a = int(input(\"Enter first number: \"))\n",
    "b = int(input(\"Enter second number: \"))\n",
    "c = int(input(\"Enter third number: \"))\n",
    "\n",
    "if a > b:\n",
    "    if a > c:\n",
    "        print(\"Largest:\", a)\n",
    "    else:\n",
    "        print(\"Largest:\", c)\n",
    "else:\n",
    "    if b > c:\n",
    "        print(\"Largest:\", b)\n",
    "    else:\n",
    "        print(\"Largest:\", c)"
   ]
  },
  {
   "cell_type": "code",
   "execution_count": null,
   "id": "86fcb460",
   "metadata": {},
   "outputs": [
    {
     "name": "stdout",
     "output_type": "stream",
     "text": [
      "Smallest: 45\n"
     ]
    }
   ],
   "source": [
    "# 10 Write a Python program to find and display the smallest number among three given numbers.\n",
    "\n",
    "a = int(input(\"Enter first number: \"))\n",
    "b = int(input(\"Enter second number: \"))\n",
    "c = int(input(\"Enter third number: \"))\n",
    "\n",
    "if a < b:\n",
    "    if a < c:\n",
    "        print(\"Smallest:\", a)\n",
    "    else:\n",
    "        print(\"Smallest:\", c)\n",
    "else:\n",
    "    if b < c:\n",
    "        print(\"Smallest:\", b)\n",
    "    else:\n",
    "        print(\"Smallest:\", c) "
   ]
  },
  {
   "cell_type": "code",
   "execution_count": null,
   "id": "089c4d76",
   "metadata": {},
   "outputs": [],
   "source": []
  }
 ],
 "metadata": {
  "kernelspec": {
   "display_name": "Python 3",
   "language": "python",
   "name": "python3"
  },
  "language_info": {
   "codemirror_mode": {
    "name": "ipython",
    "version": 3
   },
   "file_extension": ".py",
   "mimetype": "text/x-python",
   "name": "python",
   "nbconvert_exporter": "python",
   "pygments_lexer": "ipython3",
   "version": "3.13.7"
  }
 },
 "nbformat": 4,
 "nbformat_minor": 5
}
