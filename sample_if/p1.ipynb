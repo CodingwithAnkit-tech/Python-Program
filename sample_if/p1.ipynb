{
 "cells": [
  {
   "cell_type": "code",
   "execution_count": 3,
   "id": "f28b352a",
   "metadata": {},
   "outputs": [
    {
     "name": "stdout",
     "output_type": "stream",
     "text": [
      "Number lying to 50 and 100\n"
     ]
    }
   ],
   "source": [
    "# 1 wap to  check the given no is lying between 50 and 100,\n",
    "\n",
    "num=int(input(\"Enter the number :\"))\n",
    "if 50<num<100:\n",
    "    print(\"Number lying to 50 and 100\")\n",
    "\n"
   ]
  },
  {
   "cell_type": "code",
   "execution_count": 8,
   "id": "3470aa2a",
   "metadata": {},
   "outputs": [
    {
     "name": "stdout",
     "output_type": "stream",
     "text": [
      "given string  have more than three character\n"
     ]
    }
   ],
   "source": [
    "#2 write the given string is having more than 3 charcters.\n",
    "\n",
    "num=input(\"Enter the string\")\n",
    "if len(num)>3:\n",
    "    print(\"given string  have more than three character\")"
   ]
  }
 ],
 "metadata": {
  "language_info": {
   "name": "python"
  }
 },
 "nbformat": 4,
 "nbformat_minor": 5
}
