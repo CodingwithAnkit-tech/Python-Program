{
 "cells": [
  {
   "cell_type": "code",
   "execution_count": 3,
   "id": "f28b352a",
   "metadata": {},
   "outputs": [
    {
     "name": "stdout",
     "output_type": "stream",
     "text": [
      "Number lying to 50 and 100\n"
     ]
    }
   ],
   "source": [
    "# 1 wap to  check the given no is lying between 50 and 100,\n",
    "\n",
    "num=int(input(\"Enter the number :\"))\n",
    "if 50<num<100:\n",
    "    print(\"Number lying to 50 and 100\")\n",
    "\n"
   ]
  },
  {
   "cell_type": "code",
   "execution_count": null,
   "id": "3470aa2a",
   "metadata": {},
   "outputs": [
    {
     "name": "stdout",
     "output_type": "stream",
     "text": [
      "given string  have more than three character\n"
     ]
    }
   ],
   "source": [
    "#2 write the given string is having more than 3 charcters.\n",
    "\n",
    "num=input(\"Enter the string\")\n",
    "if len(num)>3:\n",
    "    print(\"given string  have more than three character\")"
   ]
  },
  {
   "cell_type": "code",
   "execution_count": null,
   "id": "3ec04256",
   "metadata": {},
   "outputs": [
    {
     "name": "stdout",
     "output_type": "stream",
     "text": [
      "charcter is vowel\n"
     ]
    }
   ],
   "source": [
    "#3 wap to check weather the given charcter is vowel\n",
    "\n",
    "n=input(\"Enter the character:\")\n",
    "if n.lower() in \"aeiou\":\n",
    "    print(\"charcter is vowel\")\n"
   ]
  },
  {
   "cell_type": "code",
   "execution_count": null,
   "id": "27b4164e",
   "metadata": {},
   "outputs": [
    {
     "name": "stdout",
     "output_type": "stream",
     "text": [
      "vowels\n"
     ]
    }
   ],
   "source": [
    "#4 wap to  check weather the given charcter is vowel or cosntant\n",
    "\n",
    "char=(input(\"Enter a character :\"))\n",
    "vowels = \"aeiouAEIOU\"\n",
    "\n",
    "if char in vowels:\n",
    "    print(\"vowels\")\n",
    "else:\n",
    "    print(\"constant\")\n",
    "    "
   ]
  },
  {
   "cell_type": "code",
   "execution_count": null,
   "id": "94bb9fe5",
   "metadata": {},
   "outputs": [
    {
     "name": "stdout",
     "output_type": "stream",
     "text": [
      "Even\n"
     ]
    }
   ],
   "source": [
    " #5wap to check the givenm number is odd or even\n",
    "\n",
    "a = int(input(\"Enter a number:\"))\n",
    "if a%2==0:\n",
    "\n",
    "\n",
    "    print(\"Even\")\n"
   ]
  },
  {
   "cell_type": "code",
   "execution_count": null,
   "id": "b6b597d0",
   "metadata": {},
   "outputs": [
    {
     "name": "stdout",
     "output_type": "stream",
     "text": [
      "The number is odd.\n"
     ]
    }
   ],
   "source": [
    "#6 wap to check the number is odd(take user input)\n",
    "num = int(input(\"Enter a number: \"))\n",
    "if num % 2 != 0: \n",
    "    print(\"The number is odd.\")\n"
   ]
  },
  {
   "cell_type": "code",
   "execution_count": 11,
   "id": "3a1dfa3d",
   "metadata": {},
   "outputs": [
    {
     "name": "stdout",
     "output_type": "stream",
     "text": [
      "The number is even.\n"
     ]
    }
   ],
   "source": [
    "#7.wap a program to number is even(take user input)\n",
    "\n",
    "num = int(input(\"Enter a number: \"))\n",
    "if num %2 == 0:\n",
    "     print(\"The number is even.\")\n"
   ]
  },
  {
   "cell_type": "code",
   "execution_count": 12,
   "id": "9ce98f2c",
   "metadata": {},
   "outputs": [
    {
     "name": "stdout",
     "output_type": "stream",
     "text": [
      "Good Luck\n"
     ]
    }
   ],
   "source": [
    "#8.wap to check if the student has scored 70% print \"good luck\" (take user input)\n",
    "num = int(input(\"Enter the percentage: \"))\n",
    "if num >= 70:\n",
    "     print(\"Good Luck\")\n",
    "\n"
   ]
  },
  {
   "cell_type": "code",
   "execution_count": 13,
   "id": "065543a9",
   "metadata": {},
   "outputs": [
    {
     "name": "stdout",
     "output_type": "stream",
     "text": [
      "a is greater than b\n"
     ]
    }
   ],
   "source": [
    "#9.wap to check which num is greater using if condition a=98, b=67\n",
    "a = 98\n",
    "b = 67\n",
    "if a > b:\n",
    "      print(\"a is greater than b\")\n"
   ]
  },
  {
   "cell_type": "code",
   "execution_count": 15,
   "id": "6f49aaaa",
   "metadata": {},
   "outputs": [
    {
     "name": "stdout",
     "output_type": "stream",
     "text": [
      "The string has an even length of characters.\n"
     ]
    }
   ],
   "source": [
    "#10. wap to check if the given string has even length of charccter s=\"hey guys you all are osam\"\n",
    "s = \"hey guy you all are osam\"\n",
    "if len(s) %2 == 0:\n",
    "     print(\"The string has an even length of characters.\")\n"
   ]
  },
  {
   "cell_type": "code",
   "execution_count": 16,
   "id": "75e44973",
   "metadata": {},
   "outputs": [
    {
     "name": "stdout",
     "output_type": "stream",
     "text": [
      "The number is divisible by 5.\n"
     ]
    }
   ],
   "source": [
    "#11. wap to check the given number is number is divisle by 5 (take user input)\n",
    "num = int(input(\"Enter a number: \"))\n",
    "if num % 5 == 0:\n",
    "     print(\"The number is divisible by 5.\")"
   ]
  },
  {
   "cell_type": "code",
   "execution_count": 17,
   "id": "dd05ce0b",
   "metadata": {},
   "outputs": [
    {
     "name": "stdout",
     "output_type": "stream",
     "text": [
      "yes\n"
     ]
    }
   ],
   "source": [
    "#12. wap to check the if the given programing is present in the list\n",
    "#p=[\"java\", \"python\", \"c\", \"c++\", \"RUBy\", \"golang\"]\n",
    "p = [\"java\", \"python\", \"c\", \"c++\", \"RUBy\", \"golang\"]\n",
    "prog = input(\"Enter the programing language:\")\n",
    "if prog in p:\n",
    "    print(\"yes\")"
   ]
  },
  {
   "cell_type": "code",
   "execution_count": null,
   "id": "0042b373",
   "metadata": {},
   "outputs": [
    {
     "name": "stdout",
     "output_type": "stream",
     "text": [
      "You are eligible to vote.\n"
     ]
    }
   ],
   "source": [
    "#13. wap to check eligble to vote to take user input as age.\n",
    "age = int(input(\"Enter your age: \"))\n",
    "if age >= 18:\n",
    "     print(\"You are eligible to vote.\")\n"
   ]
  },
  {
   "cell_type": "code",
   "execution_count": 19,
   "id": "d6acc6f4",
   "metadata": {},
   "outputs": [
    {
     "name": "stdout",
     "output_type": "stream",
     "text": [
      "the nuber is positive.\n"
     ]
    }
   ],
   "source": [
    "#14. wap to check if tbe given number is positive take user input.\n",
    "num = int(input(\"Enter a number: \"))\n",
    "if num > 0:\n",
    "     print(\"the nuber is positive.\")"
   ]
  },
  {
   "cell_type": "code",
   "execution_count": null,
   "id": "ea62c9a5",
   "metadata": {},
   "outputs": [
    {
     "name": "stdout",
     "output_type": "stream",
     "text": [
      "The string is a palindarome.\n"
     ]
    }
   ],
   "source": [
    "#15. wap to check if the given string is palindrome or not.\n",
    "s = input(\"Enter a string: \")\n",
    "#s = s.replace(\" \", \"\").lower() \n",
    "if s == s[::-1]:\n",
    "     print(\"The string is a palindarome.\")\n",
    "#else:\n",
    "#     print(\"The string is not  a palindarome.\") \n",
    "\n"
   ]
  },
  {
   "cell_type": "code",
   "execution_count": 23,
   "id": "419906c0",
   "metadata": {},
   "outputs": [
    {
     "name": "stdout",
     "output_type": "stream",
     "text": [
      "The first letter is a consonent.\n"
     ]
    }
   ],
   "source": [
    "#16. wap to check if the first letter in the given string is consonant s=\"Kaif is a good student\"\n",
    "s = \"Kaif is a good stuent\"\n",
    "if s[0].lower() not in 'aeiou':\n",
    "     print(\"The first letter is a consonent.\")"
   ]
  },
  {
   "cell_type": "code",
   "execution_count": 29,
   "id": "5494583c",
   "metadata": {},
   "outputs": [
    {
     "name": "stdout",
     "output_type": "stream",
     "text": [
      "The string is in uppercase.\n"
     ]
    }
   ],
   "source": [
    "#17. wap to check the given sring is upparcase or not (take user input).\n",
    "s = input(\"Enter a string: \")\n",
    "if s.isupper():\n",
    "     print(\"The string is in uppercase.\")"
   ]
  },
  {
   "cell_type": "code",
   "execution_count": 30,
   "id": "06fe6ef6",
   "metadata": {},
   "outputs": [
    {
     "name": "stdout",
     "output_type": "stream",
     "text": [
      "The value is a string.\n"
     ]
    }
   ],
   "source": [
    "#18. wap to check the given value is string (take user input).\n",
    "value = input(\"Enter a value: \")\n",
    "if isinstance(value, str):\n",
    "     print(\"The value is a string.\")\n"
   ]
  },
  {
   "cell_type": "code",
   "execution_count": 31,
   "id": "be208699",
   "metadata": {},
   "outputs": [
    {
     "name": "stdout",
     "output_type": "stream",
     "text": [
      "Python Coding\n"
     ]
    }
   ],
   "source": [
    "#19. wap to display \"Python Coding\" if the number is grater than 1 and lesthan 5 (take user input).\n",
    "num = int(input(\"Enter a number: \"))\n",
    "if 1 < num < 5:\n",
    "     print(\"Python Coding\")\n",
    "\n"
   ]
  },
  {
   "cell_type": "code",
   "execution_count": 32,
   "id": "49b0cf34",
   "metadata": {},
   "outputs": [
    {
     "name": "stdout",
     "output_type": "stream",
     "text": [
      "Its negative guys.\n"
     ]
    }
   ],
   "source": [
    "#20. wap to check whether given number is negative and print \"its negative guys\".\n",
    "num = int(input(\"Enter a number: \"))\n",
    "if num < 0:\n",
    "     print(\"Its negative guys.\")\n"
   ]
  },
  {
   "cell_type": "code",
   "execution_count": 33,
   "id": "1d3542dd",
   "metadata": {},
   "outputs": [
    {
     "name": "stdout",
     "output_type": "stream",
     "text": [
      "The complex number is: (30+0j)\n"
     ]
    }
   ],
   "source": [
    "#21. wap to check whether given input is divisible by 2 and 6 if condition is True , convert the given number to complex number.(take user input).\n",
    "num = int(input(\"Enter a number: \"))\n",
    "if num %2 == 0 and num %6 == 0:\n",
    "     complex_num = complex(num)\n",
    "     print(f\"The complex number is: {complex_num}\")"
   ]
  },
  {
   "cell_type": "code",
   "execution_count": null,
   "id": "4a795050",
   "metadata": {},
   "outputs": [
    {
     "name": "stdout",
     "output_type": "stream",
     "text": [
      "20 is even and has been added to the list.\n"
     ]
    }
   ],
   "source": [
    "#22.wap to check whether the given number is even or not , if even stoer the value inside the list (take user input).\n",
    "num = int(input(\"Enter a number: \"))\n",
    "my_list = []\n",
    "if num %2 == 0:\n",
    "     my_list.append(num)\n",
    "     print(f\"{num} is even and has been added to the list.\") \n"
   ]
  },
  {
   "cell_type": "code",
   "execution_count": 35,
   "id": "356270ba",
   "metadata": {},
   "outputs": [
    {
     "name": "stdout",
     "output_type": "stream",
     "text": [
      "The square of 35 is: 1225\n"
     ]
    }
   ],
   "source": [
    "#23. wap to check whether a given value is divisible by 5 and 7, if the value is divisible then display the display the square of the values (take user input).\n",
    "num = int(input(\"Enter a number: \"))\n",
    "if num %5 == 0 and num %7 == 0:\n",
    "     square = num ** 2\n",
    "     print(f\"The square of {num} is: {square}\") \n"
   ]
  },
  {
   "cell_type": "code",
   "execution_count": 37,
   "id": "cb7d52f9",
   "metadata": {},
   "outputs": [
    {
     "name": "stdout",
     "output_type": "stream",
     "text": [
      "The ASCII character for 60 is: <\n"
     ]
    }
   ],
   "source": [
    "#24. waap to check wheather a given value is present in between 45 and 200 and the number should be divisible by 4 and 5 ,if satisfied,display the ascii charecters (take user input).\n",
    "num = int(input(\"Enter a number: \"))\n",
    "if 45 < num < 200 and num %4 == 0 and num %5  == 0:\n",
    "     ascii_value = chr(num)\n",
    "     print(f\"The ASCII character for {num} is: {ascii_value}\")"
   ]
  },
  {
   "cell_type": "code",
   "execution_count": null,
   "id": "d425dbec",
   "metadata": {},
   "outputs": [
    {
     "name": "stdout",
     "output_type": "stream",
     "text": [
      "The substring 'World' is found in the string 'Hello World'.\n"
     ]
    }
   ],
   "source": [
    "#25. wap to checking if a string contains a substring  string=\"Hello World\" sub_string=\"World\".\n",
    "string = \"Hello World\"\n",
    "sub_string = \"World\"\n",
    "if sub_string in string:\n",
    "     print(f\"The substring '{sub_string}' is found in the string '{string}'.\")\n"
   ]
  },
  {
   "cell_type": "code",
   "execution_count": 39,
   "id": "8a0860e2",
   "metadata": {},
   "outputs": [
    {
     "name": "stdout",
     "output_type": "stream",
     "text": [
      "The maximum value in the list is: 12\n",
      "The minimum value in the list is: 1\n"
     ]
    }
   ],
   "source": [
    "#21. finding the maximum value and minimum value in a list l=[1,5,3,9,12].\n",
    "l = [1, 5, 3, 9, 12]\n",
    "max_value = max(l)\n",
    "min_value = min(l)\n",
    "print(f\"The maximum value in the list is: {max_value}\")\n",
    "print(f\"The minimum value in the list is: {min_value}\")\n",
    "\n"
   ]
  },
  {
   "cell_type": "code",
   "execution_count": 40,
   "id": "6c63c91b",
   "metadata": {},
   "outputs": [
    {
     "name": "stdout",
     "output_type": "stream",
     "text": [
      "The index of the maximum value in the list is: 3\n",
      "The index of the minimum value in the list is: 0\n"
     ]
    }
   ],
   "source": [
    "#22. finding the index of the maximum value and minimum value in a list l=[1,5,3,9,2].\n",
    "l = [1, 5, 3, 9, 2]\n",
    "max_index = l.index(max(l))\n",
    "min_index = l.index(min(l))\n",
    "print(f\"The index of the maximum value in the list is: {max_index}\")\n",
    "print(f\"The index of the minimum value in the list is: {min_index}\") \n"
   ]
  },
  {
   "cell_type": "code",
   "execution_count": 41,
   "id": "8f6d19c9",
   "metadata": {},
   "outputs": [
    {
     "name": "stdout",
     "output_type": "stream",
     "text": [
      "The list after removing duplicates is: [1, 11, 12, 'hero', 31]\n"
     ]
    }
   ],
   "source": [
    "#23. removing duplicates from a list l=[11, 12, 1, 31, 31, \"hero\", \"hero\"].\n",
    "l=[11, 12, 1, 31, 31, \"hero\", \"hero\"]\n",
    "unique_list = list(set(l))\n",
    "print(f\"The list after removing duplicates is: {unique_list}\") \n",
    "\n"
   ]
  },
  {
   "cell_type": "code",
   "execution_count": 42,
   "id": "6e1a8073",
   "metadata": {},
   "outputs": [
    {
     "name": "stdout",
     "output_type": "stream",
     "text": [
      "The number 2 occurs 4 times in the list.\n"
     ]
    }
   ],
   "source": [
    "#24. counting occurence of an item in a list l=[1,2,3,4,2,2,2,7,8,5].\n",
    "l=[1, 2, 3, 4, 2, 2, 2, 7, 8, 5]\n",
    "count_of_2 = l.count(2)\n",
    "print(f\"The number 2 occurs {count_of_2} times in the list.\")\n"
   ]
  },
  {
   "cell_type": "code",
   "execution_count": 43,
   "id": "025ea2bc",
   "metadata": {},
   "outputs": [
    {
     "name": "stdout",
     "output_type": "stream",
     "text": [
      "All items in the list are unique.\n"
     ]
    }
   ],
   "source": [
    "#25. checking if all items elements in a list are unique l=[1,2,3,4,5]\n",
    "l=[1, 2, 3, 4, 5]\n",
    "are_unique = len(l) == len(set(l))\n",
    "if are_unique:\n",
    "     print(\"All items in the list are unique.\") \n"
   ]
  },
  {
   "cell_type": "code",
   "execution_count": 44,
   "id": "82726267",
   "metadata": {},
   "outputs": [
    {
     "name": "stdout",
     "output_type": "stream",
     "text": [
      "The character 'A' is an alphabet and its ASCII value is: 65\n"
     ]
    }
   ],
   "source": [
    "#26. wap to check the whether a charecter is in the alphabet or not, if it is alphabet,store the value inside  a dict(key as a character and value as ascii value).\n",
    "character = input(\"Enter a character: \")\n",
    "if character.isalpha() and len(character) == 1:\n",
    "     ascii_value = ord(character)\n",
    "     char_dict = {character: ascii_value}\n",
    "     print(f\"The character '{character}' is an alphabet and its ASCII value is: {ascii_value}\") \n",
    "\n"
   ]
  },
  {
   "cell_type": "code",
   "execution_count": 47,
   "id": "0686d9fc",
   "metadata": {},
   "outputs": [
    {
     "name": "stdout",
     "output_type": "stream",
     "text": [
      "The character 'R' is uppercase. Converted to lowercase: 'r' with ASCII value: 114\n"
     ]
    }
   ],
   "source": [
    "#27.wap to check whether a character is in uppercase or not, if uppercase, convert to lower case and store that value inside the dict (character as key and ascii as value) take user input.\n",
    "character = input(\"Enter a character: \")\n",
    "if character.isupper() and len(character) == 1:\n",
    "     lower_character = character.lower()\n",
    "     ascii_value = ord(lower_character)\n",
    "     char_dict = {lower_character: ascii_value}\n",
    "     print(f\"The character '{character}' is uppercase. Converted to lowercase: '{lower_character}' with ASCII value: {ascii_value}\")"
   ]
  },
  {
   "cell_type": "code",
   "execution_count": null,
   "id": "22dd8b4f",
   "metadata": {},
   "outputs": [],
   "source": []
  }
 ],
 "metadata": {
  "kernelspec": {
   "display_name": "Python 3",
   "language": "python",
   "name": "python3"
  },
  "language_info": {
   "codemirror_mode": {
    "name": "ipython",
    "version": 3
   },
   "file_extension": ".py",
   "mimetype": "text/x-python",
   "name": "python",
   "nbconvert_exporter": "python",
   "pygments_lexer": "ipython3",
   "version": "3.13.7"
  }
 },
 "nbformat": 4,
 "nbformat_minor": 5
}
