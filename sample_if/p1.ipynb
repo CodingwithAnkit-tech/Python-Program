{
 "cells": [
  {
   "cell_type": "code",
   "execution_count": 3,
   "id": "f28b352a",
   "metadata": {},
   "outputs": [
    {
     "name": "stdout",
     "output_type": "stream",
     "text": [
      "Number lying to 50 and 100\n"
     ]
    }
   ],
   "source": [
    "# 1 wap to  check the given no is lying between 50 and 100,\n",
    "\n",
    "num=int(input(\"Enter the number :\"))\n",
    "if 50<num<100:\n",
    "    print(\"Number lying to 50 and 100\")\n",
    "\n"
   ]
  },
  {
   "cell_type": "code",
   "execution_count": null,
   "id": "3470aa2a",
   "metadata": {},
   "outputs": [
    {
     "name": "stdout",
     "output_type": "stream",
     "text": [
      "given string  have more than three character\n"
     ]
    }
   ],
   "source": [
    "#2 write the given string is having more than 3 charcters.\n",
    "\n",
    "num=input(\"Enter the string\")\n",
    "if len(num)>3:\n",
    "    print(\"given string  have more than three character\")"
   ]
  },
  {
   "cell_type": "code",
   "execution_count": 1,
   "id": "3ec04256",
   "metadata": {},
   "outputs": [
    {
     "name": "stdout",
     "output_type": "stream",
     "text": [
      "12\n"
     ]
    }
   ],
   "source": [
    "print(12)"
   ]
  },
  {
   "cell_type": "code",
   "execution_count": null,
   "id": "27b4164e",
   "metadata": {},
   "outputs": [],
   "source": []
  }
 ],
 "metadata": {
  "kernelspec": {
   "display_name": "Python 3",
   "language": "python",
   "name": "python3"
  },
  "language_info": {
   "codemirror_mode": {
    "name": "ipython",
    "version": 3
   },
   "file_extension": ".py",
   "mimetype": "text/x-python",
   "name": "python",
   "nbconvert_exporter": "python",
   "pygments_lexer": "ipython3",
   "version": "3.13.7"
  }
 },
 "nbformat": 4,
 "nbformat_minor": 5
}
