{
 "cells": [
  {
   "cell_type": "code",
   "execution_count": 3,
   "id": "991b5aaa",
   "metadata": {},
   "outputs": [
    {
     "name": "stdout",
     "output_type": "stream",
     "text": [
      "Even\n"
     ]
    }
   ],
   "source": [
    " #1. Check if a number is even or odd\n",
    "\n",
    "num = int(input(\"Enter a number:\"))\n",
    "if num%2 ==0:\n",
    "    print(\"Even\")\n",
    "else:\n",
    "    print(\"Odd\")"
   ]
  },
  {
   "cell_type": "code",
   "execution_count": 7,
   "id": "09422222",
   "metadata": {},
   "outputs": [
    {
     "name": "stdout",
     "output_type": "stream",
     "text": [
      "You are eligible\n"
     ]
    }
   ],
   "source": [
    "# 2. Check if a person is eligible to vote (age >= 18)\n",
    "\n",
    "a=int(input(\"Enter your age:\"))\n",
    "if a>=18:\n",
    "    print(\"You are eligible\")\n",
    "else:\n",
    "    print(\"not eligible\")"
   ]
  },
  {
   "cell_type": "code",
   "execution_count": 8,
   "id": "a93c09e5",
   "metadata": {},
   "outputs": [
    {
     "name": "stdout",
     "output_type": "stream",
     "text": [
      "negative\n"
     ]
    }
   ],
   "source": [
    " #3. Check if a number is positive or not\n",
    "\n",
    "num=int(input(\"Enter the number:\"))\n",
    "if num>0:\n",
    "    print(\"positive\")\n",
    "else:\n",
    "    print(\"negative\")"
   ]
  },
  {
   "cell_type": "code",
   "execution_count": 9,
   "id": "6b0dccd5",
   "metadata": {},
   "outputs": [
    {
     "name": "stdout",
     "output_type": "stream",
     "text": [
      "Numbers are not equal.\n"
     ]
    }
   ],
   "source": [
    "# 4. Check if two numbers are equal or not\n",
    "num1 = int(input(\"Enter first number: \"))\n",
    "num2 = int(input(\"Enter second number: \"))\n",
    "if num1 == num2:\n",
    "    print(\"Both numbers are equal.\")\n",
    "else:\n",
    "    print(\"Numbers are not equal.\")"
   ]
  },
  {
   "cell_type": "code",
   "execution_count": 10,
   "id": "49d26c78",
   "metadata": {},
   "outputs": [
    {
     "name": "stdout",
     "output_type": "stream",
     "text": [
      "divisible by 5\n"
     ]
    }
   ],
   "source": [
    " #5. Check if a number is divisible by 5 \n",
    "\n",
    "num=int(input(\"Enter the  number:\"))\n",
    "if num%5==0:\n",
    "    print(\"divisible by 5\")\n",
    "else:\n",
    "    print(\"not divisible by 5\")\n",
    "    "
   ]
  },
  {
   "cell_type": "code",
   "execution_count": 11,
   "id": "74c03b17",
   "metadata": {},
   "outputs": [
    {
     "name": "stdout",
     "output_type": "stream",
     "text": [
      "constant\n"
     ]
    }
   ],
   "source": [
    "# 6. Check if a character is a vowel or consonant\n",
    "\n",
    "a=(input(\"Enter the character:\"))\n",
    "if a in 'aeiouAEIOU':\n",
    "    print(\"yes vowel\")\n",
    "else:\n",
    "    print(\"constant\")"
   ]
  },
  {
   "cell_type": "code",
   "execution_count": 12,
   "id": "89146cd5",
   "metadata": {},
   "outputs": [
    {
     "name": "stdout",
     "output_type": "stream",
     "text": [
      "out of range\n"
     ]
    }
   ],
   "source": [
    "# 7. Check if a number is within a range (1-100)\n",
    "\n",
    "num=int(input(\"Enter a number:\"))\n",
    "if 1<= num <=100 :\n",
    "    print(\"in the range\")\n",
    "else:\n",
    "    print(\"out of range\")"
   ]
  },
  {
   "cell_type": "code",
   "execution_count": 13,
   "id": "d4799b35",
   "metadata": {},
   "outputs": [
    {
     "name": "stdout",
     "output_type": "stream",
     "text": [
      "not empty\n"
     ]
    }
   ],
   "source": [
    " #8. Check if a string is empty or not\n",
    "\n",
    "s=input(\"Enter a string:\")\n",
    "if s== \"\":\n",
    "    print(\"is empty\")\n",
    "else:\n",
    "    print(\"not empty\")"
   ]
  },
  {
   "cell_type": "code",
   "execution_count": 14,
   "id": "56f00668",
   "metadata": {},
   "outputs": [
    {
     "name": "stdout",
     "output_type": "stream",
     "text": [
      "yes multiple of 3\n"
     ]
    }
   ],
   "source": [
    "#9 check if a number is a multiple of 3\n",
    "n=int(input(\"Enter a number:\"))\n",
    "if n%3==0:\n",
    "    print(\"yes multiple of 3\")\n",
    "else:\n",
    "    print(\"not multiple of 3\")"
   ]
  },
  {
   "cell_type": "code",
   "execution_count": 15,
   "id": "6938cf0d",
   "metadata": {},
   "outputs": [
    {
     "name": "stdout",
     "output_type": "stream",
     "text": [
      "correct password\n"
     ]
    }
   ],
   "source": [
    "# 10 check the password is correct is not\n",
    "\n",
    "password='1234'\n",
    "num=input(\"Enter the password:\")\n",
    "if num==password:\n",
    "    print(\"correct password\")\n",
    "else:\n",
    "    print(\"password incorrect\")"
   ]
  },
  {
   "cell_type": "code",
   "execution_count": 16,
   "id": "2ce9974b",
   "metadata": {},
   "outputs": [
    {
     "name": "stdout",
     "output_type": "stream",
     "text": [
      "not greater than 100\n"
     ]
    }
   ],
   "source": [
    "#11 check the numer is greaater than 100\n",
    "\n",
    "n=int(input(\"Enter the number:\"))\n",
    "if n>100:\n",
    "    print(\"yes greater than 100\")\n",
    "else:\n",
    "    print(\"not greater than 100\")"
   ]
  },
  {
   "cell_type": "code",
   "execution_count": 17,
   "id": "d0f48e8b",
   "metadata": {},
   "outputs": [
    {
     "name": "stdout",
     "output_type": "stream",
     "text": [
      "positive\n"
     ]
    }
   ],
   "source": [
    "#12 check if a number is negative\n",
    "n=int(input(\"Enter a number:\"))\n",
    "if n<0:\n",
    "    print(\"negative\")\n",
    "else:\n",
    "    print(\"positive\")"
   ]
  },
  {
   "cell_type": "code",
   "execution_count": 18,
   "id": "63f3f7f1",
   "metadata": {},
   "outputs": [
    {
     "name": "stdout",
     "output_type": "stream",
     "text": [
      "not 2 digit\n"
     ]
    }
   ],
   "source": [
    "#13 check if number is two digit number or not\n",
    "\n",
    "n=int(input(\"Enter a number:\"))\n",
    "if 9< n<100:\n",
    "    print(\"number is two digit\")\n",
    "else:\n",
    "    print(\"not 2 digit\")"
   ]
  },
  {
   "cell_type": "code",
   "execution_count": 19,
   "id": "533bf48b",
   "metadata": {},
   "outputs": [
    {
     "name": "stdout",
     "output_type": "stream",
     "text": [
      "eligible\n"
     ]
    }
   ],
   "source": [
    "#14 check the person tall height is(height>170cm)\n",
    "height=int(input(\"Enter your height:\"))\n",
    "if height>170:\n",
    "    print(\"eligible\")\n",
    "else:\n",
    "    print(\"not eligible\")"
   ]
  },
  {
   "cell_type": "code",
   "execution_count": 20,
   "id": "d2f35f03",
   "metadata": {},
   "outputs": [
    {
     "name": "stdout",
     "output_type": "stream",
     "text": [
      "not square\n"
     ]
    }
   ],
   "source": [
    "#15 check if number is square of another\n",
    "\n",
    "a=int(input(\"Enter fist number:\"))\n",
    "b=int(input(\"Enter second number:\"))\n",
    "if a==b**2 or b==a**2:\n",
    "    print(\" yes number is square to another number\")\n",
    "else:\n",
    "    print(\"not square\")"
   ]
  },
  {
   "cell_type": "code",
   "execution_count": 21,
   "id": "8837715a",
   "metadata": {},
   "outputs": [
    {
     "name": "stdout",
     "output_type": "stream",
     "text": [
      "yes tem is above freezing\n"
     ]
    }
   ],
   "source": [
    "#16 check if the temerature is above the freezing point\n",
    "\n",
    "tem=float(input(\"Enter the tem:\"))\n",
    "if tem>0:\n",
    "    print(\"yes tem is above freezing\")\n",
    "else:\n",
    "    print(\"not freezing\")"
   ]
  },
  {
   "cell_type": "code",
   "execution_count": 22,
   "id": "970f530f",
   "metadata": {},
   "outputs": [
    {
     "name": "stdout",
     "output_type": "stream",
     "text": [
      "Year is after or equal to 2000\n"
     ]
    }
   ],
   "source": [
    "#17 check the given year is before or after 2000\n",
    "\n",
    "year = int(input(\"Enter a year: \"))\n",
    "if year < 2000:\n",
    "    print(\"Year is before 2000\")\n",
    "if year >= 2000:\n",
    "    print(\"Year is after or equal to 2000\")"
   ]
  },
  {
   "cell_type": "code",
   "execution_count": 23,
   "id": "c65e35dc",
   "metadata": {},
   "outputs": [
    {
     "name": "stdout",
     "output_type": "stream",
     "text": [
      "yes passed\n"
     ]
    }
   ],
   "source": [
    "#18 check if student passed (marks>=40)\n",
    "marks=int(input(\"Enter the marks:\"))\n",
    "if marks>=40:\n",
    "    print(\"yes passed\")\n",
    "else:\n",
    "    print(\"failed\")"
   ]
  },
  {
   "cell_type": "code",
   "execution_count": 24,
   "id": "79662b34",
   "metadata": {},
   "outputs": [
    {
     "name": "stdout",
     "output_type": "stream",
     "text": [
      "Number is not less than 10\n"
     ]
    }
   ],
   "source": [
    "#19 check if given number is less than 10\n",
    "\n",
    "num=int(input(\"Enter a number:\"))\n",
    "if num<10:\n",
    "    print(\"Number is less than 10\")\n",
    "else:\n",
    "    print(\"Number is not less than 10\")"
   ]
  },
  {
   "cell_type": "code",
   "execution_count": 25,
   "id": "df51ed3c",
   "metadata": {},
   "outputs": [
    {
     "name": "stdout",
     "output_type": "stream",
     "text": [
      "lower case\n"
     ]
    }
   ],
   "source": [
    "#20 check the enter letter is upper case\n",
    "\n",
    "char=(input(\"Enter the letter:\"))\n",
    "if char.isupper():\n",
    "\n",
    "    print(\"Upeer case\")\n",
    "else:\n",
    "    print(\"lower case\")"
   ]
  },
  {
   "cell_type": "code",
   "execution_count": 26,
   "id": "a785d401",
   "metadata": {},
   "outputs": [
    {
     "name": "stdout",
     "output_type": "stream",
     "text": [
      "leap year\n"
     ]
    }
   ],
   "source": [
    "#21  check the year is leap year or not\n",
    "year=int(input(\"Enter the year:\"))\n",
    "if year%4==0:\n",
    "    print(\"leap year\")\n",
    "else:\n",
    "    print(\"not leap year\")\n"
   ]
  },
  {
   "cell_type": "code",
   "execution_count": null,
   "id": "26d1e46d",
   "metadata": {},
   "outputs": [
    {
     "name": "stdout",
     "output_type": "stream",
     "text": [
      "Immutable data type\n"
     ]
    }
   ],
   "source": [
    "#22wap to check if the data given by user is mutable data type or not\n",
    "\n",
    "n=eval(input(\"Enter the data:\"))\n",
    "if type(n) in [list,set,dict]:\n",
    "    print(\"Mutable data type\")\n",
    "else:\n",
    "    print(\"Immutable data type\")"
   ]
  },
  {
   "cell_type": "code",
   "execution_count": null,
   "id": "1d06d9b9",
   "metadata": {},
   "outputs": [
    {
     "name": "stdout",
     "output_type": "stream",
     "text": [
      "length is even\n"
     ]
    }
   ],
   "source": [
    "#23wap to find the middle value in side a list\n",
    "\n",
    "l=eval(input(\"Enter the list:\"))\n",
    "if len(l)%2!=0:\n",
    "    a=len(l)//2\n",
    "    print(l[a])\n",
    "else:\n",
    "    print(\"length is even\")"
   ]
  },
  {
   "cell_type": "code",
   "execution_count": null,
   "id": "312874b4",
   "metadata": {},
   "outputs": [],
   "source": []
  }
 ],
 "metadata": {
  "kernelspec": {
   "display_name": "Python 3",
   "language": "python",
   "name": "python3"
  },
  "language_info": {
   "codemirror_mode": {
    "name": "ipython",
    "version": 3
   },
   "file_extension": ".py",
   "mimetype": "text/x-python",
   "name": "python",
   "nbconvert_exporter": "python",
   "pygments_lexer": "ipython3",
   "version": "3.13.7"
  }
 },
 "nbformat": 4,
 "nbformat_minor": 5
}
